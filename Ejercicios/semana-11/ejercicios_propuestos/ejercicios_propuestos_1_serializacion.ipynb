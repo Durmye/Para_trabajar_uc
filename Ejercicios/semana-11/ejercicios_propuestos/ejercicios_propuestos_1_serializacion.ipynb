{
 "cells": [
  {
   "cell_type": "markdown",
   "metadata": {},
   "source": [
    "<p>\n",
    "<font size='5' face='Georgia, Arial'>IIC-2233 Apunte Programación Avanzada</font><br>\n",
    "<font size='1'> Actualizados el 2023-2.</font>\n",
    "</p>\n",
    "\n",
    "\n",
    "# Ejercicios propuestos: Serialización\n",
    "## Serialización"
   ]
  },
  {
   "cell_type": "markdown",
   "metadata": {},
   "source": [
    "Los siguientes problemas se proveen como oportunidad de ejercitar los conceptos revisados en el material de **Serialización y manejo de bytes**. Si tienes dudas sobre algún problema o alguna solución, no dudes en dejar una *issue* en el [foro del curso](https://github.com/IIC2233/syllabus/issues)."
   ]
  },
  {
   "cell_type": "markdown",
   "metadata": {},
   "source": [
    "### Ejercicio 1: Serialización con JSON  y *f-strings*"
   ]
  },
  {
   "cell_type": "markdown",
   "metadata": {},
   "source": [
    "¡Han contaminado el recetario de las pizzas del Tini Tamburini! Es por esta razón que han venido a pedirte ayuda mediante este ejercicio propuesto.\n",
    "\n",
    "Deberás deserializar el archivo **pizzeria.json** ubicado dentro de la carpeta `data`. Esta archivo contiene una lista de objetos de clase `Pizza`. Estos objetos tienen el atributo `ingredientes`, el cual ha sido contaminado con elementos que no son comestibles. Para identificarlos, el Tini le entrega un archivo llamado **comestibles.json** que tambien está dentro de la carpeta `data`, el cual será de ayuda para filtrar los ingredientes mediante el uso un `object_hook`. Finalmente, imprime todas las pizzas utilizando *f-strings*."
   ]
  },
  {
   "cell_type": "code",
   "execution_count": 12,
   "metadata": {},
   "outputs": [
    {
     "name": "stdout",
     "output_type": "stream",
     "text": [
      "[hawaiana, vegetariana, machas a la parmesana, pepperoni, pollo bbq, jamon palmito, white, napolitana, queso]\n",
      "Pizza: hawaiana \n",
      "Ingredientes:['pinia', 'queso', 'jamon']\n",
      "Pizza: vegetariana \n",
      "Ingredientes:['queso', 'aceitunas', 'champiniones']\n",
      "Pizza: machas a la parmesana \n",
      "Ingredientes:['machas', 'queso']\n",
      "Pizza: pepperoni \n",
      "Ingredientes:['pepperoni', 'queso']\n",
      "Pizza: pollo bbq \n",
      "Ingredientes:['cebolla', 'queso', 'pollo bbq']\n",
      "Pizza: jamon palmito \n",
      "Ingredientes:['jamon', 'palmitos', 'queso']\n",
      "Pizza: white \n",
      "Ingredientes:['aceitunas', 'tomate']\n",
      "Pizza: napolitana \n",
      "Ingredientes:['queso', 'albahaca', 'tomate']\n",
      "Pizza: queso \n",
      "Ingredientes:['queso', 'queso']\n"
     ]
    }
   ],
   "source": [
    "import json\n",
    "\n",
    "class Pizza:\n",
    "    def __init__(self, nombre, ingredientes, *args, **kwargs):\n",
    "        self.nombre = nombre\n",
    "        self.ingredientes = ingredientes\n",
    "\n",
    "    def __repr__(self):\n",
    "        return self.nombre\n",
    "\n",
    "    def __str__(self):\n",
    "        return 'Pizza: {} \\nIngredientes:{}'.format(self.nombre, self.ingredientes)\n",
    "\n",
    "\n",
    "def filtrar_comestibles(diccionario):\n",
    "    # Aquí deberás cargar la lista de comestibles y quitar del atributo\n",
    "    # correspondiente aquellos elementos que no lo sean\n",
    "    with open(\"data/comestibles.json\", \"r\") as ingredientes_archivo: \n",
    "        comestibles = json.load(ingredientes_archivo)\n",
    "        #print(f\"tipo de ingredientes: {type(ingredientes)}\")  #Transformado en lista \n",
    "        ingredientes_filtrados = [ingrediente for ingrediente in diccionario[\"ingredientes\"] if ingrediente in comestibles]\n",
    "        diccionario[\"ingredientes\"] = ingredientes_filtrados\n",
    "    return Pizza(**diccionario)\n",
    "\n",
    "\n",
    "\n",
    "# Carga las pizzas del archivo pizzeria.json que está dentro de data\n",
    "# y finalmente imprime la lista de pizzas usando f-strings\n",
    "with open(\"data/pizzeria.json\", \"r\") as pizzas: \n",
    "    lista_de_pizzas = json.load(pizzas, object_hook=filtrar_comestibles) \n",
    "\n",
    "print(lista_de_pizzas)\n",
    "for pizza in lista_de_pizzas:\n",
    "    print(pizza)\n",
    "#print(lista_de_pizzas[1])\n",
    "\n",
    "#print(type(lista_de_pizzas))\n",
    "#print(type(lista_de_pizzas[1]))"
   ]
  },
  {
   "cell_type": "markdown",
   "metadata": {},
   "source": [
    "### Ejercicio 2: Serialización con JSON y *pickle*"
   ]
  },
  {
   "cell_type": "markdown",
   "metadata": {},
   "source": [
    "Mientras estás de visita en un museo, se descubre que en las descripciones de un conjunto de obras de arte se encuentra un mensaje oculto, el cual solo se puede descifrar a través del uso de *pickle* para serialización. Es por esto, que el director del museo pide tu ayuda.\n",
    "\n",
    "Para lograr descifrar el mensaje oculto, deberás implementar las siguientes funciones:\n",
    "\n",
    "- `cargar_obras(ruta_obras)`: El archivo **operas.json** contiene toda la información de las obras. Las obras contienen algunos datos que no son relevantes para la solución de este misterio. Por esto, se te entrega el archivo **caratteristicas.json**, que está en la carpeta `data`, con las características que sí deberás obtener de las obras, mediante la función `obras_hook`, que deberá retornar una **lista de objetos de la clase `Obra`**.\n",
    "- `generar_mensaje(lista_obras)`: Esta función debe serializar cada una de las obras utilizando `pickle`. Durante este proceso, deberás agregar a cada obra el attributo `messaggio`, con un mensaje generado por 3 palabras al azar del atributo `descrizione`. Los archivos generados deben ser guardados en la carpeta **Obras** que está dentro de la carpeta `data`. Cada archivo debe ser guardado con el siguiente formato: `<nome>-<autore>.opera` (sin `<` ni `>`), donde `nome` y `autore` son el nombre de la obra y el nombre de su respectivo autor. "
   ]
  },
  {
   "cell_type": "code",
   "execution_count": 18,
   "metadata": {},
   "outputs": [
    {
     "ename": "UnicodeDecodeError",
     "evalue": "'charmap' codec can't decode byte 0x81 in position 31045: character maps to <undefined>",
     "output_type": "error",
     "traceback": [
      "\u001b[1;31m---------------------------------------------------------------------------\u001b[0m",
      "\u001b[1;31mUnicodeDecodeError\u001b[0m                        Traceback (most recent call last)",
      "Cell \u001b[1;32mIn[18], line 73\u001b[0m\n\u001b[0;32m     67\u001b[0m \u001b[38;5;250m    \u001b[39m\u001b[38;5;124;03m\"\"\"\u001b[39;00m\n\u001b[0;32m     68\u001b[0m \u001b[38;5;124;03m    Serializa las obras y las guarda en archivos\u001b[39;00m\n\u001b[0;32m     69\u001b[0m \u001b[38;5;124;03m    :param lista_obras: Lista de objetos de tipo obra cargados.\u001b[39;00m\n\u001b[0;32m     70\u001b[0m \u001b[38;5;124;03m    \"\"\"\u001b[39;00m\n\u001b[0;32m     71\u001b[0m     \u001b[38;5;28;01mpass\u001b[39;00m\n\u001b[1;32m---> 73\u001b[0m \u001b[43mcargar_obras\u001b[49m\u001b[43m(\u001b[49m\u001b[43mOPERAS_CAMMINO\u001b[49m\u001b[43m)\u001b[49m\n",
      "Cell \u001b[1;32mIn[18], line 50\u001b[0m, in \u001b[0;36mcargar_obras\u001b[1;34m(ruta_obras)\u001b[0m\n\u001b[0;32m     41\u001b[0m \u001b[38;5;250m\u001b[39m\u001b[38;5;124;03m\"\"\"\u001b[39;00m\n\u001b[0;32m     42\u001b[0m \u001b[38;5;124;03mFuncion que carga las obras con las características pedidas,\u001b[39;00m\n\u001b[0;32m     43\u001b[0m \u001b[38;5;124;03my luego entrega la lista de Obras.\u001b[39;00m\n\u001b[1;32m   (...)\u001b[0m\n\u001b[0;32m     47\u001b[0m \u001b[38;5;124;03m object hook para hacer el filtrado\u001b[39;00m\n\u001b[0;32m     48\u001b[0m \u001b[38;5;124;03m\"\"\"\u001b[39;00m\n\u001b[0;32m     49\u001b[0m \u001b[38;5;28;01mwith\u001b[39;00m \u001b[38;5;28mopen\u001b[39m(ruta_obras, \u001b[38;5;124m\"\u001b[39m\u001b[38;5;124mr\u001b[39m\u001b[38;5;124m\"\u001b[39m) \u001b[38;5;28;01mas\u001b[39;00m OBRAS:\n\u001b[1;32m---> 50\u001b[0m     operas \u001b[38;5;241m=\u001b[39m \u001b[43mjson\u001b[49m\u001b[38;5;241;43m.\u001b[39;49m\u001b[43mload\u001b[49m\u001b[43m(\u001b[49m\u001b[43mOBRAS\u001b[49m\u001b[43m,\u001b[49m\u001b[43m \u001b[49m\u001b[43mobject_hook\u001b[49m\u001b[38;5;241;43m=\u001b[39;49m\u001b[43mobras_hook\u001b[49m\u001b[43m)\u001b[49m\n\u001b[0;32m     51\u001b[0m \u001b[38;5;28;01mreturn\u001b[39;00m operas\n",
      "File \u001b[1;32mc:\\Users\\ereh\\AppData\\Local\\Programs\\Python\\Python311\\Lib\\json\\__init__.py:293\u001b[0m, in \u001b[0;36mload\u001b[1;34m(fp, cls, object_hook, parse_float, parse_int, parse_constant, object_pairs_hook, **kw)\u001b[0m\n\u001b[0;32m    274\u001b[0m \u001b[38;5;28;01mdef\u001b[39;00m \u001b[38;5;21mload\u001b[39m(fp, \u001b[38;5;241m*\u001b[39m, \u001b[38;5;28mcls\u001b[39m\u001b[38;5;241m=\u001b[39m\u001b[38;5;28;01mNone\u001b[39;00m, object_hook\u001b[38;5;241m=\u001b[39m\u001b[38;5;28;01mNone\u001b[39;00m, parse_float\u001b[38;5;241m=\u001b[39m\u001b[38;5;28;01mNone\u001b[39;00m,\n\u001b[0;32m    275\u001b[0m         parse_int\u001b[38;5;241m=\u001b[39m\u001b[38;5;28;01mNone\u001b[39;00m, parse_constant\u001b[38;5;241m=\u001b[39m\u001b[38;5;28;01mNone\u001b[39;00m, object_pairs_hook\u001b[38;5;241m=\u001b[39m\u001b[38;5;28;01mNone\u001b[39;00m, \u001b[38;5;241m*\u001b[39m\u001b[38;5;241m*\u001b[39mkw):\n\u001b[0;32m    276\u001b[0m \u001b[38;5;250m    \u001b[39m\u001b[38;5;124;03m\"\"\"Deserialize ``fp`` (a ``.read()``-supporting file-like object containing\u001b[39;00m\n\u001b[0;32m    277\u001b[0m \u001b[38;5;124;03m    a JSON document) to a Python object.\u001b[39;00m\n\u001b[0;32m    278\u001b[0m \n\u001b[1;32m   (...)\u001b[0m\n\u001b[0;32m    291\u001b[0m \u001b[38;5;124;03m    kwarg; otherwise ``JSONDecoder`` is used.\u001b[39;00m\n\u001b[0;32m    292\u001b[0m \u001b[38;5;124;03m    \"\"\"\u001b[39;00m\n\u001b[1;32m--> 293\u001b[0m     \u001b[38;5;28;01mreturn\u001b[39;00m loads(fp\u001b[38;5;241m.\u001b[39mread(),\n\u001b[0;32m    294\u001b[0m         \u001b[38;5;28mcls\u001b[39m\u001b[38;5;241m=\u001b[39m\u001b[38;5;28mcls\u001b[39m, object_hook\u001b[38;5;241m=\u001b[39mobject_hook,\n\u001b[0;32m    295\u001b[0m         parse_float\u001b[38;5;241m=\u001b[39mparse_float, parse_int\u001b[38;5;241m=\u001b[39mparse_int,\n\u001b[0;32m    296\u001b[0m         parse_constant\u001b[38;5;241m=\u001b[39mparse_constant, object_pairs_hook\u001b[38;5;241m=\u001b[39mobject_pairs_hook, \u001b[38;5;241m*\u001b[39m\u001b[38;5;241m*\u001b[39mkw)\n",
      "File \u001b[1;32mc:\\Users\\ereh\\AppData\\Local\\Programs\\Python\\Python311\\Lib\\encodings\\cp1252.py:23\u001b[0m, in \u001b[0;36mIncrementalDecoder.decode\u001b[1;34m(self, input, final)\u001b[0m\n\u001b[0;32m     22\u001b[0m \u001b[38;5;28;01mdef\u001b[39;00m \u001b[38;5;21mdecode\u001b[39m(\u001b[38;5;28mself\u001b[39m, \u001b[38;5;28minput\u001b[39m, final\u001b[38;5;241m=\u001b[39m\u001b[38;5;28;01mFalse\u001b[39;00m):\n\u001b[1;32m---> 23\u001b[0m     \u001b[38;5;28;01mreturn\u001b[39;00m codecs\u001b[38;5;241m.\u001b[39mcharmap_decode(\u001b[38;5;28minput\u001b[39m,\u001b[38;5;28mself\u001b[39m\u001b[38;5;241m.\u001b[39merrors,decoding_table)[\u001b[38;5;241m0\u001b[39m]\n",
      "\u001b[1;31mUnicodeDecodeError\u001b[0m: 'charmap' codec can't decode byte 0x81 in position 31045: character maps to <undefined>"
     ]
    }
   ],
   "source": [
    "import json\n",
    "import os\n",
    "import pickle\n",
    "import random\n",
    "\n",
    "\n",
    "CARATTERISTICAS_CAMMINO = os.path.join('data', 'caratteristicas.json')\n",
    "OPERAS_CAMMINO = os.path.join('data', 'operas.json')\n",
    "\n",
    "\n",
    "class Obra:\n",
    "    \"\"\"\n",
    "    Clase para las Obras de Antonini Da Ossa\n",
    "    \"\"\"\n",
    "\n",
    "    def __init__(self, nome=None, autore=None, anno=None, posto=None,\n",
    "                 stile=None, descrizione=None):\n",
    "\n",
    "        self.nome = nome\n",
    "        self.autore = autore\n",
    "        self.anno = anno\n",
    "        self.posto = posto\n",
    "        self.stile = stile\n",
    "        self.descrizione = descrizione\n",
    "\n",
    "    def __getstate__(self):\n",
    "        \"\"\"\n",
    "        Serializa las obras, agregando el atributo 'messaggio' al diccionario.\n",
    "        \"\"\"\n",
    "        pass\n",
    "\n",
    "    def __repr__(self):\n",
    "        return self.nome\n",
    "    \n",
    "    def __str__():\n",
    "        pass\n",
    "\n",
    "\n",
    "\n",
    "def cargar_obras(ruta_obras) -> list:\n",
    "    \"\"\"\n",
    "    Funcion que carga las obras con las características pedidas,\n",
    "    y luego entrega la lista de Obras.\n",
    "    :param ruta_obras: Path de archivo de obras a cargar\n",
    "\n",
    "    NOTA: DEBE USARSE la funcion obras_hook() como\n",
    "     object hook para hacer el filtrado\n",
    "    \"\"\"\n",
    "    with open(ruta_obras, \"r\") as OBRAS:\n",
    "        operas = json.load(OBRAS, object_hook=obras_hook)\n",
    "    return operas\n",
    "\n",
    "\n",
    "def obras_hook(dict_obras):\n",
    "    \"\"\"\n",
    "    Object hook que hace los objetos de la clase Obra y los añade a una lista.\n",
    "    HINT: Utilizar aquí el archivo caratteristicas ;)\n",
    "    \"\"\"\n",
    "    with open(CARATTERISTICAS_CAMMINO, \"r\") as caracteristicas:\n",
    "        utiles = json.load(caracteristicas)\n",
    "    for util in utiles: \n",
    "        del dict_obras[util]\n",
    "    return Obra(**dict_obras)\n",
    "    \n",
    "\n",
    "def generar_mensaje(lista_obras):\n",
    "    \"\"\"\n",
    "    Serializa las obras y las guarda en archivos\n",
    "    :param lista_obras: Lista de objetos de tipo obra cargados.\n",
    "    \"\"\"\n",
    "    pass\n",
    "\n",
    "cargar_obras(OPERAS_CAMMINO)"
   ]
  },
  {
   "cell_type": "markdown",
   "metadata": {},
   "source": [
    "### Ejercicio 3: Serialización usando Pickle y JSON\n",
    "\n",
    "Eres conocid@ por tod@s por tu gran amor al cine, razón por la cual tu novia Victoria te ha pedido que por favor le recomiendes películas buenas para poder ver. Para hacer esta recomendación, debes hacer uso del archivo `movies.json` que está dentro de la carpeta `data`. \n",
    "Este archivo tiene un diccionario por película con varias características, de las cuales solamente debes guardar algunas. El procedimiento que debes llevar a cabo es el siguiente:\n",
    "\n",
    "1. Completar la funcion `cargar_películas()` que debe deserializar la información de las películas del archivo `movies.json`, solamente incluyendo los datos que son relevantes especificados en el archivo `caracteristicas.pkl` (que está en la carpeta `data`), mediante la funcion `hook_peliculas()`. Esta última debe retorna una lista de objetos de la clase Pelicula. Notar que el archivo `caracteristicas.pkl` también debe ser deserializado, utilizando Pickle, para obtener la información en el.\n",
    "\n",
    "2. Completar la función `recomendar_peliculas(lista_peliculas)` que recibe una lista de objetos de la clase Pelicula. Esta debe ser capaz de serializar, mediante Pickle, cada película en un archivo llamado `recomendaciones.pkl` (este lo crearás tu). Para la serialización, debes completar el método `__getstate__()` para poder agregar una opinión (tu recomendación) al diccionario a serializar de cada película. Notar que los strings de opinión a elegir se encuentran en el archivo `opiniones.pkl` que está dentro de `data`, por lo que debes deserializar este también, mediante Pickle, para obtenerlas. Puedes usar la librería `random` importada para elegir una opinión al azar."
   ]
  },
  {
   "cell_type": "code",
   "execution_count": null,
   "metadata": {},
   "outputs": [],
   "source": [
    "import json\n",
    "import pickle\n",
    "import random\n",
    "\n",
    "\n",
    "class Pelicula:\n",
    "\n",
    "    def __init__(self, title=None, category_name=None, release_year=None, running_time=None):\n",
    "\n",
    "        self.title = title\n",
    "        self.category_name = category_name\n",
    "        self.release_year = release_year\n",
    "        self.running_time = running_time\n",
    "\n",
    "    def __getstate__(self):\n",
    "        \"\"\"\n",
    "        Aquí debes personalizar la serialización de las películas, agregando una opinion al \n",
    "        diccionario. Recuerda obtener las opiniones deserializando el archivo opiniones.pkl \n",
    "        con Pickle.\n",
    "        \"\"\"\n",
    "        pass\n",
    "\n",
    "\n",
    "def hook_peliculas(peliculas):\n",
    "    \"\"\"\n",
    "    Debes utilizar esta función para personalizar la deserialización de las películas en \n",
    "    movies.json.\n",
    "    \"\"\"\n",
    "    pass\n",
    "\n",
    "\n",
    "def cargar_peliculas():\n",
    "    \"\"\"\n",
    "    Esta función debe deserializar la información de cada película, pero icluyendo solamente la\n",
    "    información especificada en caracteristicas.pkl (este archivo debe ser deserializado con Pickle) \n",
    "    utilizando la función hook_peliculas() para el filtrado.\n",
    "    \"\"\"\n",
    "    pass\n",
    "\n",
    "\n",
    "def recomendar_peliculas(peliculas):\n",
    "    \"\"\"\n",
    "    Se deben serializar las películas en el archivo recomendaciones.pkl utilizando Pickle, \n",
    "    incluyendo un mensaje de opinión mediante el método __getstate__() de la clase Pelicula.\n",
    "    \"\"\"\n",
    "    pass\n"
   ]
  },
  {
   "cell_type": "code",
   "execution_count": null,
   "metadata": {},
   "outputs": [],
   "source": [
    "# Main code\n",
    "\"\"\"\n",
    "Al correr este código, deberías obtener un archivo llamado recomendaciones.pkl con la información\n",
    "de cada película y la opinion para cada una de estas.\n",
    "\"\"\"\n",
    "peliculas = cargar_peliculas()\n",
    "recomendar_peliculas(peliculas)\n"
   ]
  },
  {
   "cell_type": "code",
   "execution_count": null,
   "metadata": {},
   "outputs": [],
   "source": [
    "\"\"\"\n",
    "El siguiente código puede ser corrido para comprobar que se realizo el ejercicio correctamente.\n",
    "Deberían imprimirse diccionarios por película, con todas las caracteristicas de cada película del \n",
    "archivo caracteristicas.pkl como keys y una key \"opinion\" que tiene como value alguna de las tres \n",
    "opiniones del archivo opiniones.pkl.\n",
    "\"\"\"\n",
    "\n",
    "with open(\"recomendaciones.pkl\", \"rb\") as file:\n",
    "    peliculas_recomendadas = list()\n",
    "    while True:\n",
    "        try:\n",
    "            peliculas_recomendadas.append(pickle.load(file))\n",
    "        except EOFError:\n",
    "            break\n",
    "for p in peliculas_recomendadas:\n",
    "    print(p.__dict__)\n"
   ]
  },
  {
   "cell_type": "markdown",
   "metadata": {},
   "source": [
    "### Ejercicio 4: Serialización usando JSON\n",
    "\n",
    "Durante las caóticas inscripciones de cursos para el segundo semestre del 2020 un hacker aprovechó la situación y corrompió la base de datos de los estudiantes, dejándolos con asignaturas inexistentes en el sistema. Afortunadamente, existe un archivo `asignaturas.json`, dentro de la carpeta `data`, en donde están los cursos disponibles. Tu trabajo será instanciar los Alumnos con los cursos correctos, filtrando (por medio de un hook) aquellos cursos que no correspondan y guardar todos los alumnos en un archivo llamado `alumnos.json`."
   ]
  },
  {
   "cell_type": "code",
   "execution_count": null,
   "metadata": {},
   "outputs": [],
   "source": [
    "import json\n",
    "import os\n",
    "\n",
    "class Alumno:\n",
    "    def __init__(self, nombre, num_alumno, cursos):\n",
    "        self.nombre = nombre\n",
    "        self.num_alumno = num_alumno\n",
    "        self.cursos = cursos\n",
    "\n",
    "    def __repr__(self):\n",
    "        string_cursos = ', '.join(self.cursos)\n",
    "        return f'Asignaturas de {self.nombre}: \\n{string_cursos}\\n'\n",
    "\n",
    "\n",
    "with open(os.path.join('data', 'asignaturas.json')) as file:\n",
    "    # Modifica la linea siguiente para cargar la LISTA de asignaturas\n",
    "    asignaturas = None\n",
    "    pass\n",
    "\n",
    "\n",
    "def hook_function(diccionario):\n",
    "    # Completa esta función para deserializar los alumnos.\n",
    "    # Debes dejar solamente las asignaturas presentes en la lista cargada arriba\n",
    "    pass\n",
    "\n",
    "\n",
    "with open('alumnos.json', \"r\") as file:\n",
    "    # Carga los alumnos en una lista usando object_hook\n",
    "    lista_alumnos = None\n",
    "    pass\n",
    "\n",
    "print(*lista_alumnos, sep='\\n')"
   ]
  }
 ],
 "metadata": {
  "kernelspec": {
   "display_name": "Python 3 (ipykernel)",
   "language": "python",
   "name": "python3"
  },
  "language_info": {
   "codemirror_mode": {
    "name": "ipython",
    "version": 3
   },
   "file_extension": ".py",
   "mimetype": "text/x-python",
   "name": "python",
   "nbconvert_exporter": "python",
   "pygments_lexer": "ipython3",
   "version": "3.11.7"
  },
  "varInspector": {
   "cols": {
    "lenName": 16,
    "lenType": 16,
    "lenVar": 40
   },
   "kernels_config": {
    "python": {
     "delete_cmd_postfix": "",
     "delete_cmd_prefix": "del ",
     "library": "var_list.py",
     "varRefreshCmd": "print(var_dic_list())"
    },
    "r": {
     "delete_cmd_postfix": ") ",
     "delete_cmd_prefix": "rm(",
     "library": "var_list.r",
     "varRefreshCmd": "cat(var_dic_list()) "
    }
   },
   "types_to_exclude": [
    "module",
    "function",
    "builtin_function_or_method",
    "instance",
    "_Feature"
   ],
   "window_display": false
  }
 },
 "nbformat": 4,
 "nbformat_minor": 2
}
